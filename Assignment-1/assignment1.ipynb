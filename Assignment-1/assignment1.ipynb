{
  "cells": [
    {
      "cell_type": "markdown",
      "metadata": {
        "id": "YR0YvHgDJ0jd"
      },
      "source": [
        "# EDA \n",
        "## Assignment 1\n",
        "## Video Games DataSet\n",
        "\n",
        "Download Link: https://www.kaggle.com/datasets/gregorut/videogamesales?resource=download\n",
        "\n"
      ]
    },
    {
      "cell_type": "code",
      "execution_count": null,
      "metadata": {
        "id": "tGQEFQxJKrWK"
      },
      "outputs": [],
      "source": [
        "import pandas as pd\n",
        "import numpy as np\n",
        "import seaborn as sns\n",
        "import matplotlib.pyplot as plt"
      ]
    },
    {
      "cell_type": "code",
      "execution_count": null,
      "metadata": {
        "colab": {
          "base_uri": "https://localhost:8080/"
        },
        "executionInfo": {
          "elapsed": 3945,
          "status": "ok",
          "timestamp": 1690542778995,
          "user": {
            "displayName": "Jash Doshi",
            "userId": "10820658459202725998"
          },
          "user_tz": -330
        },
        "id": "1ohdmXGzJ3qq",
        "outputId": "b598b951-01e2-40b6-a724-b42824185b52"
      },
      "outputs": [],
      "source": [
        "df = pd.read_csv(\"./vgsales.csv\")"
      ]
    },
    {
      "cell_type": "markdown",
      "metadata": {
        "id": "8XB5BbX7OCJC"
      },
      "source": [
        "# Task 1:\n",
        "Type inference\n",
        "1. Detect the types of columns in a dataframe\n",
        "2. Categorise them to numerical and categorical data types\n",
        "\n",
        "\n"
      ]
    },
    {
      "cell_type": "code",
      "execution_count": null,
      "metadata": {
        "colab": {
          "base_uri": "https://localhost:8080/",
          "height": 216
        },
        "executionInfo": {
          "elapsed": 345,
          "status": "ok",
          "timestamp": 1690542808837,
          "user": {
            "displayName": "Jash Doshi",
            "userId": "10820658459202725998"
          },
          "user_tz": -330
        },
        "id": "A7n0AvjwLSW2",
        "outputId": "998acbb5-9b96-4ae0-bba7-693f7f028cdb"
      },
      "outputs": [],
      "source": [
        "print(df.dtypes)\n",
        "print(df.columns)"
      ]
    },
    {
      "cell_type": "code",
      "execution_count": null,
      "metadata": {},
      "outputs": [],
      "source": [
        "print(df.select_dtypes(include=['int64', 'float64']).columns)\n",
        "print(df.select_dtypes(include=['object']).columns)"
      ]
    },
    {
      "cell_type": "markdown",
      "metadata": {
        "id": "UhE1KFVXObHg"
      },
      "source": [
        "# Task 2\n",
        "Essentials\n",
        "1. Data value type  \n",
        "2. Unique values\n",
        "3. Indication of missing values\n",
        "\n",
        "\n",
        "\n",
        "\n",
        "\n"
      ]
    },
    {
      "cell_type": "code",
      "execution_count": null,
      "metadata": {
        "colab": {
          "base_uri": "https://localhost:8080/"
        },
        "executionInfo": {
          "elapsed": 9,
          "status": "ok",
          "timestamp": 1690542778996,
          "user": {
            "displayName": "Jash Doshi",
            "userId": "10820658459202725998"
          },
          "user_tz": -330
        },
        "id": "-sJcxAtuNCPo",
        "outputId": "39ec7eb1-c07c-4529-c8d3-2d2f5feeff8e"
      },
      "outputs": [],
      "source": [
        "print(df.dtypes)"
      ]
    },
    {
      "cell_type": "code",
      "execution_count": null,
      "metadata": {
        "colab": {
          "base_uri": "https://localhost:8080/"
        },
        "executionInfo": {
          "elapsed": 8,
          "status": "ok",
          "timestamp": 1690542778996,
          "user": {
            "displayName": "Jash Doshi",
            "userId": "10820658459202725998"
          },
          "user_tz": -330
        },
        "id": "LMy2WHCOPFom",
        "outputId": "10b8e0ac-5feb-4f48-96b3-247d02c95700"
      },
      "outputs": [],
      "source": [
        "unique_values = {column: df[column].unique() for column in df.columns}\n",
        "\n",
        "def print_unique_values(index):\n",
        "    print(f\"Unqiue values in '{list(unique_values.keys())[index]}': {list(unique_values.values())[index]}\")\n",
        "\n",
        "for i in range(len(unique_values)):\n",
        "    print_unique_values(i)"
      ]
    },
    {
      "cell_type": "code",
      "execution_count": null,
      "metadata": {
        "colab": {
          "base_uri": "https://localhost:8080/",
          "height": 1000
        },
        "executionInfo": {
          "elapsed": 791,
          "status": "ok",
          "timestamp": 1690542779780,
          "user": {
            "displayName": "Jash Doshi",
            "userId": "10820658459202725998"
          },
          "user_tz": -330
        },
        "id": "SaZRYXQwPGpU",
        "outputId": "8eba521a-fe85-4b22-efce-ac772982b650"
      },
      "outputs": [],
      "source": [
        "df.isna().sum()"
      ]
    },
    {
      "cell_type": "markdown",
      "metadata": {
        "id": "1a9eDreIS-0n"
      },
      "source": [
        "# Task 3\n",
        "Quantile statistics\n",
        "1.   minimum value\n",
        "2.   median\n",
        "3.   maximum value\n",
        "4.   range\n",
        "5. most frequent and extreme values\n",
        "6. file size, no. of rows n cols, creation dates\n",
        "\n",
        "\n"
      ]
    },
    {
      "cell_type": "code",
      "execution_count": null,
      "metadata": {},
      "outputs": [],
      "source": [
        "def find_max_min_values(df):\n",
        "\n",
        "    max_values = df.max().to_dict()\n",
        "    min_values = df.min().to_dict()\n",
        "\n",
        "    return max_values, min_values\n",
        "\n",
        "max_values, min_values = find_max_min_values(df)\n",
        "\n",
        "print (\"Max values:\")\n",
        "for key, value in max_values.items():\n",
        "    print(key, value)\n",
        "\n",
        "print (\"\\nMin values:\")\n",
        "for key, value in min_values.items():\n",
        "    print(key, value)"
      ]
    },
    {
      "cell_type": "code",
      "execution_count": null,
      "metadata": {},
      "outputs": [],
      "source": [
        "x = df['Rank'].value_counts()\n",
        "x.max()"
      ]
    },
    {
      "cell_type": "code",
      "execution_count": null,
      "metadata": {
        "colab": {
          "base_uri": "https://localhost:8080/"
        },
        "executionInfo": {
          "elapsed": 617,
          "status": "ok",
          "timestamp": 1690543111862,
          "user": {
            "displayName": "Jash Doshi",
            "userId": "10820658459202725998"
          },
          "user_tz": -330
        },
        "id": "fJOBanLnUBln",
        "outputId": "1b172097-8426-4092-c9cc-354cb4636a8e"
      },
      "outputs": [],
      "source": [
        "most_frequent_values= {}\n",
        "\n",
        "for column in df.columns:\n",
        "  most_frequent_value_counts = df[column].value_counts()\n",
        "  max_frequency = most_frequent_value_counts.max()\n",
        "  most_frequent_values[column] = most_frequent_value_counts[most_frequent_value_counts == max_frequency].index.tolist()[0]\n",
        "\n",
        "print(most_frequent_values.keys())"
      ]
    },
    {
      "cell_type": "code",
      "execution_count": null,
      "metadata": {
        "colab": {
          "base_uri": "https://localhost:8080/"
        },
        "executionInfo": {
          "elapsed": 10,
          "status": "ok",
          "timestamp": 1690542779782,
          "user": {
            "displayName": "Jash Doshi",
            "userId": "10820658459202725998"
          },
          "user_tz": -330
        },
        "id": "oav0CwqoKJ7X",
        "outputId": "e001116d-009d-4af0-9dc7-4e0954bc56c9"
      },
      "outputs": [],
      "source": [
        "print(f\"Rows = {df.shape[0]}, Columns = {df.shape[1]}\")"
      ]
    },
    {
      "cell_type": "code",
      "execution_count": null,
      "metadata": {
        "colab": {
          "base_uri": "https://localhost:8080/"
        },
        "executionInfo": {
          "elapsed": 9,
          "status": "ok",
          "timestamp": 1690542779782,
          "user": {
            "displayName": "Jash Doshi",
            "userId": "10820658459202725998"
          },
          "user_tz": -330
        },
        "id": "VQjizc7gLA_u",
        "outputId": "a87d4a21-48b7-4321-9c0f-29a8622ef6e2"
      },
      "outputs": [],
      "source": [
        "print(df.duplicated().value_counts())"
      ]
    },
    {
      "cell_type": "markdown",
      "metadata": {
        "id": "1atrr6j5VPrC"
      },
      "source": [
        "#**5) Correlation**\n",
        "* high correlation warnings, based on different correlation metrics (Spearman, Pearson, Kendall, Cramer’s V, Phik) - choose any one metric  \n",
        "\n",
        "\n",
        "\n"
      ]
    },
    {
      "cell_type": "markdown",
      "metadata": {
        "id": "4-CwVPp8pwJ7"
      },
      "source": [
        "**How all the correlation metrics work**\n",
        "* Spearman: Rank-based correlation metric that assesses the strength and direction of a monotonic relationship between two numerical variables. It measures the degree to which the ranks of the data points increase or decrease together. Spearman correlation is robust to outliers and can capture non-linear relationships.\n",
        "\n",
        "* Pearson: parametric correlation metric that measures the linear relationship between two numerical variables. It computes the covariance of the two variables divided by the product of their standard deviations. Pearson correlation is sensitive to outliers and assumes that the relationship between variables is linear.\n",
        "\n",
        "* Kendall Correlation:\n",
        "Rank-based correlation metric that evaluates the strength and direction of a monotonic relationship between two numerical variables. It counts the number of concordant and discordant pairs of data points. Kendall correlation is less sensitive to outliers and can capture non-linear relationships.\n",
        "\n",
        "* Cramer's V:\n",
        "Used for categorical data. It measures the association between two categorical variables in a contingency table. Cramer's V ranges from 0 to 1, where 0 indicates no association, and 1 indicates a perfect association.\n",
        "\n",
        "* Phik (Phik Coefficient):\n",
        "Designed for handling mixed-type data. It can measure the association between mixed-type variables, including numerical, categorical, and ordinal variables. Phik ranges from 0 to 1, where 0 indicates no association, and 1 indicates a perfect association.\n",
        "\n",
        "\n",
        "**Phix is the best to be used here since it is good with mixed data types (int,string,etc.)**"
      ]
    },
    {
      "cell_type": "code",
      "execution_count": null,
      "metadata": {
        "colab": {
          "base_uri": "https://localhost:8080/"
        },
        "executionInfo": {
          "elapsed": 8,
          "status": "ok",
          "timestamp": 1690542779782,
          "user": {
            "displayName": "Jash Doshi",
            "userId": "10820658459202725998"
          },
          "user_tz": -330
        },
        "id": "vsdwSdXiV4W8",
        "outputId": "40b00631-a762-4c90-d95b-b385a64d0283"
      },
      "outputs": [],
      "source": [
        "#trying out pearson since phix was not working with the column 'Name' in it.\n",
        "correlation_matrix = df.corr(method='pearson')\n",
        "correlation_threshold = 0.8\n",
        "high_correlations = (correlation_matrix.abs() > correlation_threshold) & (correlation_matrix < 1)\n",
        "\n",
        "for col in high_correlations.columns:\n",
        "  for row in high_correlations.index:\n",
        "    if high_correlations.loc[row, col] and col>row:\n",
        "      print(f\"Strong relation: '{row}' and '{col}' : {correlation_matrix.loc[row, col]:.2f}\")\n",
        "\n",
        "\n",
        "#only prints numeric relations"
      ]
    },
    {
      "cell_type": "markdown",
      "metadata": {},
      "source": [
        "# Task 6\n",
        "Missing values: \n",
        "1. through counts \n",
        "2. matrix \n",
        "3. heat map "
      ]
    },
    {
      "cell_type": "code",
      "execution_count": null,
      "metadata": {
        "colab": {
          "base_uri": "https://localhost:8080/",
          "height": 728
        },
        "executionInfo": {
          "elapsed": 6602,
          "status": "ok",
          "timestamp": 1690542792391,
          "user": {
            "displayName": "Jash Doshi",
            "userId": "10820658459202725998"
          },
          "user_tz": -330
        },
        "id": "mdf6cAF5WAoN",
        "outputId": "d84d5df9-cfad-4260-8f06-c93ff2b91f6f"
      },
      "outputs": [],
      "source": [
        "missing_value = df.isnull()\n",
        "\n",
        "\n",
        "print(\"Missing Value Counts:\")\n",
        "print(missing_value.sum())\n",
        "\n",
        "\n",
        "plt.figure(figsize=(10, 6))\n",
        "sns.heatmap(missing_value, cmap='viridis', cbar=False)\n",
        "plt.title(\"Missing Value Heatmap\")\n",
        "plt.show()"
      ]
    },
    {
      "cell_type": "markdown",
      "metadata": {},
      "source": [
        "# Task 7\n",
        "Duplicate rows: \n",
        "1. list of most common duplicated rows \n"
      ]
    },
    {
      "cell_type": "code",
      "execution_count": null,
      "metadata": {},
      "outputs": [],
      "source": [
        "duplicate_rows = df[df.duplicated()]\n",
        "\n",
        "duplicate_counts = duplicate_rows.groupby(duplicate_rows.columns.tolist()).size().reset_index(name='count')\n",
        "\n",
        "most_common_duplicates = duplicate_counts.sort_values(by='count', ascending=False)\n",
        "\n",
        "print(\"List of Most Common Duplicated Rows:\")\n",
        "print(most_common_duplicates)"
      ]
    },
    {
      "cell_type": "markdown",
      "metadata": {},
      "source": [
        "# Task 8\n",
        "File analysis: \n",
        "1. file sizes \n",
        "2. creation dates \n",
        "3. Dimensions\n"
      ]
    },
    {
      "cell_type": "code",
      "execution_count": null,
      "metadata": {},
      "outputs": [],
      "source": [
        "import os\n",
        "import pandas as pd\n",
        "import time\n",
        "\n",
        "filepath = \"./vgsales.csv\"\n",
        "\n",
        "file_size = os.path.getsize(filepath)\n",
        "\n",
        "df = pd.read_csv(filepath)\n",
        "num_rows, num_cols = df.shape\n",
        "\n",
        "creation_timestamp = os.path.getctime(filepath)\n",
        "creation_date = time.ctime(creation_timestamp)\n",
        "\n",
        "print(\"File Size (bytes):\", file_size)\n",
        "print(\"Number of Rows:\", num_rows)\n",
        "print(\"Number of Columns:\", num_cols)\n",
        "print(\"Creation Date:\", creation_date)"
      ]
    }
  ],
  "metadata": {
    "colab": {
      "authorship_tag": "ABX9TyOH17Crjkzz6ArwcTuBrFI2",
      "mount_file_id": "1m-H0qT3RI_MZyz55wo3lh8ljb3LMLQ6y",
      "provenance": [],
      "toc_visible": true
    },
    "kernelspec": {
      "display_name": "Python 3",
      "name": "python3"
    },
    "language_info": {
      "codemirror_mode": {
        "name": "ipython",
        "version": 3
      },
      "file_extension": ".py",
      "mimetype": "text/x-python",
      "name": "python",
      "nbconvert_exporter": "python",
      "pygments_lexer": "ipython3",
      "version": "3.10.12"
    }
  },
  "nbformat": 4,
  "nbformat_minor": 0
}
